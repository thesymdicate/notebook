{
 "cells": [
  {
   "cell_type": "markdown",
   "id": "822e497f-d8b0-406a-93c5-f7b1d2979f64",
   "metadata": {},
   "source": [
    "## Data Science Tools and Ecosystem"
   ]
  },
  {
   "cell_type": "markdown",
   "id": "87127cd8-c517-45b6-9c75-5797c6b8b588",
   "metadata": {
    "tags": []
   },
   "source": [
    "# Introduction \n",
    "In this notebook, Data Science Tools and Ecosystem are summarized."
   ]
  },
  {
   "cell_type": "markdown",
   "id": "ed16cb08-6576-44af-bc8b-1e7d7cf294b7",
   "metadata": {},
   "source": [
    "## Objectives:\n",
    "- List popular data science languages\n",
    "- List popular data science tools\n",
    "- List popular data science libraries\n",
    "- Demonstrate basic arithmetic in Python"
   ]
  },
  {
   "cell_type": "code",
   "execution_count": null,
   "id": "60f29ca6-ad88-4903-896d-0d24aef00d9b",
   "metadata": {},
   "outputs": [],
   "source": []
  },
  {
   "cell_type": "markdown",
   "id": "107e4f1c-1f2f-4d09-b8e1-3aada96bf9dd",
   "metadata": {},
   "source": [
    "#### Some of the popular languages that Data Scientists use are:\n",
    "- Python\n",
    "- R\n",
    "- C\n",
    "- C++"
   ]
  },
  {
   "cell_type": "markdown",
   "id": "9d005817-225c-4723-b152-620d16f2f89c",
   "metadata": {},
   "source": [
    "### Some of the commonly used libraries used by Data Scientists include:\n",
    "1. NumPy\n",
    "2. Pandas\n",
    "3. Matplotlib\n",
    "4. scikit-learn"
   ]
  },
  {
   "cell_type": "markdown",
   "id": "dd93dcd1-11a5-4065-b3d6-0ea0bb406bb0",
   "metadata": {},
   "source": [
    "# Data Science Tools\n",
    "\n",
    "| Category            | Tool/Library        | Description                                      |\n",
    "|---------------------|---------------------|--------------------------------------------------|\n",
    "| Programming Languages| Python              | General-purpose language with rich data science ecosystem. |\n",
    "|                     | R                   | Statistical programming language for data analysis. |\n",
    "|                     | Julia               | Language designed for numerical and scientific computing. |\n",
    "| Data Manipulation   | Pandas              | Library for data manipulation and analysis.       |\n",
    "|                     | NumPy               | Fundamental package for scientific computing with Python. |\n",
    "| Visualization       | Matplotlib          | 2D plotting library for creating visualizations.  |\n",
    "|                     | Seaborn             | Statistical data visualization based on Matplotlib. |\n",
    "| Machine Learning     | scikit-learn        | Machine learning library with various algorithms. |\n",
    "|                     | TensorFlow          | Open-source machine learning framework by Google. |\n",
    "|                     | PyTorch             | Deep learning library developed by Facebook.      |\n",
    "| Database            | SQL                 | Structured Query Language for working with databases. |\n",
    "|                     | SQLAlchemy          | SQL toolkit and Object-Relational Mapping (ORM) library. |"
   ]
  },
  {
   "cell_type": "markdown",
   "id": "722398d7-35c5-4ede-83a0-b31e8c2fba04",
   "metadata": {},
   "source": [
    "### Below are a few examples of evaluating arithmetic expressions in Python\n",
    "a = 3  \n",
    "b = 4  \n",
    "result = a + b  \n",
    "print(result) 7  \n",
    "  \n",
    "x = 1  \n",
    "y = 10  \n",
    "subresult = y - b  \n",
    "print(subresult) 9  "
   ]
  },
  {
   "cell_type": "code",
   "execution_count": 5,
   "id": "286a4b44-6e97-409a-bdd6-1fffafa3c72a",
   "metadata": {
    "tags": []
   },
   "outputs": [
    {
     "data": {
      "text/plain": [
       "17"
      ]
     },
     "execution_count": 5,
     "metadata": {},
     "output_type": "execute_result"
    }
   ],
   "source": [
    "#This a simple arithmetic expression to mutiply then add integers\n",
    "(3*4)+5"
   ]
  },
  {
   "cell_type": "code",
   "execution_count": 6,
   "id": "b4174847-8934-40e9-8207-e2083e664541",
   "metadata": {
    "tags": []
   },
   "outputs": [
    {
     "name": "stdout",
     "output_type": "stream",
     "text": [
      "3.3333333333333335\n"
     ]
    }
   ],
   "source": [
    "#This will convert 200 minutes to hours by diving by 60\n",
    "\n",
    "minutes = 200\n",
    "\n",
    "hours = minutes / 60\n",
    "\n",
    "print(hours)\n"
   ]
  },
  {
   "cell_type": "markdown",
   "id": "62890c64-9c01-4c80-b56e-43d04fa06986",
   "metadata": {},
   "source": [
    "# Author:\n",
    "Eder Hernandez"
   ]
  },
  {
   "cell_type": "code",
   "execution_count": null,
   "id": "fe73ec5b-e963-4d20-bc1f-e4ab5c562c8c",
   "metadata": {},
   "outputs": [],
   "source": []
  },
  {
   "cell_type": "code",
   "execution_count": null,
   "id": "63d7745a-0225-44cf-8e83-33201f611d7c",
   "metadata": {},
   "outputs": [],
   "source": []
  },
  {
   "cell_type": "code",
   "execution_count": null,
   "id": "99e0c804-dd8a-4e95-9981-56c5f9dc97e2",
   "metadata": {},
   "outputs": [],
   "source": []
  },
  {
   "cell_type": "code",
   "execution_count": null,
   "id": "30a3ec42-0c7c-4f79-af49-aadece681b04",
   "metadata": {},
   "outputs": [],
   "source": []
  }
 ],
 "metadata": {
  "kernelspec": {
   "display_name": "Python",
   "language": "python",
   "name": "conda-env-python-py"
  },
  "language_info": {
   "codemirror_mode": {
    "name": "ipython",
    "version": 3
   },
   "file_extension": ".py",
   "mimetype": "text/x-python",
   "name": "python",
   "nbconvert_exporter": "python",
   "pygments_lexer": "ipython3",
   "version": "3.7.12"
  }
 },
 "nbformat": 4,
 "nbformat_minor": 5
}
